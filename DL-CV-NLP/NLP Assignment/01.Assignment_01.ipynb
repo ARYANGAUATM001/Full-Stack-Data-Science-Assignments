{
 "cells": [
  {
   "cell_type": "markdown",
   "id": "ebc1bc90",
   "metadata": {},
   "source": [
    "# Assignment 01 Solutions"
   ]
  },
  {
   "cell_type": "markdown",
   "id": "8e27993f",
   "metadata": {},
   "source": [
    "#### 1.\tExplain One-Hot Encoding"
   ]
  },
  {
   "attachments": {
    "mtimFxh.png": {
     "image/png": "[encoded data removed]"
    }
   },
   "cell_type": "markdown",
   "id": "8f88a103",
   "metadata": {},
   "source": [
    "**Ans:** **`One Hot Encoding`** is a process by which categorical variables are converted into a form that could be provided to ML algorithms to do a better job in prediction.\n",
    "\n",
    "One hot encoding is the most widespread approach, and it works very well unless your categorical variable takes on a large number of values (i.e. you generally won't it for variables taking more than 15 different values. It'd be a poor choice in some cases with fewer values, though that varies.)\n",
    "\n",
    "One hot encoding creates new (binary) columns, indicating the presence of each possible value from the original data. Let's work through an example.\n",
    "\n",
    "![mtimFxh.png](attachment:mtimFxh.png)\n",
    "\n",
    "The values in the original data are Red, Yellow and Green. We create a separate column for each possible value. Wherever the original value was Red, we put a 1 in the Red column."
   ]
  },
  {
   "cell_type": "markdown",
   "id": "e35fdd5e",
   "metadata": {},
   "source": [
    "#### 2.\tExplain Bag of Words"
   ]
  },
  {
   "attachments": {},
   "cell_type": "markdown",
   "id": "e4b47a18",
   "metadata": {},
   "source": [
    "**Ans:** The **`bag-of-words (BOW)`** model is a representation that turns arbitrary text into fixed-length vectors by counting how many times each word appears. This process is often referred to as **`vectorization`**.\n",
    "\n",
    "Suppose we wanted to vectorize the following:  \n",
    "`the cat sat`  \n",
    "`the cat sat in the hat`  \n",
    "`the cat with the hat`  \n",
    "\n",
    "We’ll refer to each of these as a text document.\n",
    "- We first define our vocabulary, which is the set of all words found in our document set. The only words that are found in the 3 documents above are: `the, cat, sat, in, the, hat, and with`.\n",
    "- To vectorize our documents, all we have to do is count how many times each word appears:\n",
    "![image.png](attachment:image.png\n",
    "- Now we have length-6 vectors for each document!\n",
    "    - `the cat sat: [1, 1, 1, 0, 0, 0]`\n",
    "    - `the cat sat in the hat: [2, 1, 1, 1, 1, 0]`\n",
    "    - `the cat with the hat: [2, 1, 0, 0, 1, 1]`\n",
    "- The Problem with BOW is, it does not presever contextual infomration among the words. Notice that we lose contextual information, e.g. where in the document the word appeared, when we use BOW. It’s like a literal bag-of-words: it only tells you what words occur in the document, not where they occurred."
   ]
  },
  {
   "cell_type": "markdown",
   "id": "20fd90cf",
   "metadata": {},
   "source": [
    "#### 3.\tExplain Bag of N-Grams"
   ]
  },
  {
   "cell_type": "code",
   "execution_count": null,
   "id": "96c991c0",
   "metadata": {},
   "outputs": [],
   "source": []
  },
  {
   "cell_type": "markdown",
   "id": "5e14f37d",
   "metadata": {},
   "source": [
    "#### 4.\tExplain TF-IDF"
   ]
  },
  {
   "cell_type": "code",
   "execution_count": null,
   "id": "92172552",
   "metadata": {},
   "outputs": [],
   "source": []
  },
  {
   "cell_type": "markdown",
   "id": "81214e0a",
   "metadata": {},
   "source": [
    "#### 5.\tWhat is OOV problem?"
   ]
  },
  {
   "cell_type": "code",
   "execution_count": null,
   "id": "1e3013d0",
   "metadata": {},
   "outputs": [],
   "source": []
  },
  {
   "cell_type": "markdown",
   "id": "759c5b09",
   "metadata": {},
   "source": [
    "#### 6.\tWhat are word embeddings?"
   ]
  },
  {
   "cell_type": "code",
   "execution_count": null,
   "id": "948dc6a4",
   "metadata": {},
   "outputs": [],
   "source": []
  },
  {
   "cell_type": "markdown",
   "id": "5686a77e",
   "metadata": {},
   "source": [
    "#### 7.\tExplain Continuous bag of words (CBOW)"
   ]
  },
  {
   "cell_type": "code",
   "execution_count": null,
   "id": "130270b5",
   "metadata": {},
   "outputs": [],
   "source": []
  },
  {
   "cell_type": "markdown",
   "id": "637d9df0",
   "metadata": {},
   "source": [
    "#### 8.\tExplain SkipGram"
   ]
  },
  {
   "cell_type": "code",
   "execution_count": null,
   "id": "7e90ac9b",
   "metadata": {},
   "outputs": [],
   "source": []
  },
  {
   "cell_type": "markdown",
   "id": "8668d7b8",
   "metadata": {},
   "source": [
    "#### 9.\tExplain Glove Embeddings."
   ]
  },
  {
   "cell_type": "code",
   "execution_count": null,
   "id": "797e9e34",
   "metadata": {},
   "outputs": [],
   "source": []
  }
 ],
 "metadata": {
  "kernelspec": {
   "display_name": "Python 3",
   "language": "python",
   "name": "python3"
  },
  "language_info": {
   "codemirror_mode": {
    "name": "ipython",
    "version": 3
   },
   "file_extension": ".py",
   "mimetype": "text/x-python",
   "name": "python",
   "nbconvert_exporter": "python",
   "pygments_lexer": "ipython3",
   "version": "3.8.8"
  }
 },
 "nbformat": 4,
 "nbformat_minor": 5
}
